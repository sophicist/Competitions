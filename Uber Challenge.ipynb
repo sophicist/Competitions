{
 "cells": [
  {
   "cell_type": "code",
   "execution_count": 182,
   "metadata": {},
   "outputs": [
    {
     "data": {
      "text/html": [
       "<div>\n",
       "<style scoped>\n",
       "    .dataframe tbody tr th:only-of-type {\n",
       "        vertical-align: middle;\n",
       "    }\n",
       "\n",
       "    .dataframe tbody tr th {\n",
       "        vertical-align: top;\n",
       "    }\n",
       "\n",
       "    .dataframe thead th {\n",
       "        text-align: right;\n",
       "    }\n",
       "</style>\n",
       "<table border=\"1\" class=\"dataframe\">\n",
       "  <thead>\n",
       "    <tr style=\"text-align: right;\">\n",
       "      <th></th>\n",
       "      <th>ride_id</th>\n",
       "      <th>seat_number</th>\n",
       "      <th>payment_method</th>\n",
       "      <th>payment_receipt</th>\n",
       "      <th>travel_date</th>\n",
       "      <th>travel_time</th>\n",
       "      <th>travel_from</th>\n",
       "      <th>travel_to</th>\n",
       "      <th>car_type</th>\n",
       "      <th>max_capacity</th>\n",
       "    </tr>\n",
       "  </thead>\n",
       "  <tbody>\n",
       "    <tr>\n",
       "      <th>0</th>\n",
       "      <td>1442</td>\n",
       "      <td>15A</td>\n",
       "      <td>Mpesa</td>\n",
       "      <td>UZUEHCBUSO</td>\n",
       "      <td>17-10-17</td>\n",
       "      <td>7:15</td>\n",
       "      <td>Migori</td>\n",
       "      <td>Nairobi</td>\n",
       "      <td>Bus</td>\n",
       "      <td>49</td>\n",
       "    </tr>\n",
       "    <tr>\n",
       "      <th>1</th>\n",
       "      <td>5437</td>\n",
       "      <td>14A</td>\n",
       "      <td>Mpesa</td>\n",
       "      <td>TIHLBUSGTE</td>\n",
       "      <td>19-11-17</td>\n",
       "      <td>7:12</td>\n",
       "      <td>Migori</td>\n",
       "      <td>Nairobi</td>\n",
       "      <td>Bus</td>\n",
       "      <td>49</td>\n",
       "    </tr>\n",
       "  </tbody>\n",
       "</table>\n",
       "</div>"
      ],
      "text/plain": [
       "   ride_id seat_number payment_method payment_receipt travel_date travel_time  \\\n",
       "0     1442         15A          Mpesa      UZUEHCBUSO    17-10-17        7:15   \n",
       "1     5437         14A          Mpesa      TIHLBUSGTE    19-11-17        7:12   \n",
       "\n",
       "  travel_from travel_to car_type  max_capacity  \n",
       "0      Migori   Nairobi      Bus            49  \n",
       "1      Migori   Nairobi      Bus            49  "
      ]
     },
     "execution_count": 182,
     "metadata": {},
     "output_type": "execute_result"
    }
   ],
   "source": [
    "import pandas as pd\n",
    "import os\n",
    "\n",
    "#os.listdir()\n",
    "df = pd.read_csv('train_revised.csv')\n",
    "df.head(2)"
   ]
  },
  {
   "cell_type": "code",
   "execution_count": 196,
   "metadata": {},
   "outputs": [
    {
     "name": "stdout",
     "output_type": "stream",
     "text": [
      "(6249, 6) (6249,)\n",
      "(6249, 26) (6249,)\n"
     ]
    }
   ],
   "source": [
    "def mode(x):\n",
    "    from collections import Counter\n",
    "    F = Counter(x)\n",
    "    F = F.most_common(1)[0][0]\n",
    "    \n",
    "    return F\n",
    "X = pd.DataFrame()\n",
    "Df = df.groupby('ride_id')\n",
    "Y = Df.max_capacity.agg('count')\n",
    "X['payment_method'] = Df.payment_method.agg(mode)\n",
    "X['travel_date'] = Df.travel_date.agg(mode)\n",
    "X['travel_from'] = Df.travel_from.agg(mode)\n",
    "X['travel_to'] = Df.travel_to.agg(mode)\n",
    "X['car_type'] = Df.car_type.agg(mode)\n",
    "X['max_capacity'] = Df.max_capacity.agg(mode)\n",
    "\n",
    "Y.head(1)\n",
    "print(X.shape,Y.shape)\n",
    "\n",
    "X.head(1)\n",
    "X.travel_date = pd.DatetimeIndex(X.travel_date)\n",
    "X['Day'] = [i.day for i in X.travel_date]\n",
    "X['Day_of_week'] = [i.dayofweek for i in X.travel_date ]\n",
    "X['is_weekend'] = [1 if (i == 5 or i == 6) else 0 for i in X['Day_of_week']]\n",
    "X['Month'] = [i.month for i in X.travel_date]\n",
    "X['Year'] = [i.year for i in X.travel_date]\n",
    "# Create Dummies For the cols\n",
    "Cat = ['travel_from','car_type','Year','payment_method']\n",
    "Good = ['Day_of_week','Month','is_weekend']\n",
    "X_clean = X[Good]\n",
    "for i in Cat:\n",
    "    col = X[i]\n",
    "    Dum = pd.get_dummies(col)\n",
    "    X_fin = pd.concat((X_clean,Dum),1)\n",
    "    X_clean = X_fin\n",
    "print(X_fin.shape,Y.shape)\n",
    "X_fin.head(2)\n",
    "X_fin['Y'] = Y"
   ]
  },
  {
   "cell_type": "code",
   "execution_count": 177,
   "metadata": {},
   "outputs": [
    {
     "data": {
      "text/plain": [
       "\"# Test the Correlations\\n#X_fin.corr(method  = 'pearson')\\nfrom statsmodels.stats.outliers_influence import variance_inflation_factor    \\n\\ndef calculate_vif_(X, thresh=5.0):\\n    variables = list(range(X.shape[1]))\\n    dropped = True\\n    while dropped:\\n        dropped = False\\n        vif = [variance_inflation_factor(X.iloc[:, variables].values, ix)\\n               for ix in range(X.iloc[:, variables].shape[1])]\\n\\n        maxloc = vif.index(max(vif))\\n        if max(vif) > thresh:\\n            print('dropping '' + X.iloc[:, variables].columns[maxloc] +\\n                  '' at index: ' + str(maxloc))\\n            del variables[maxloc]\\n            dropped = True\\n\\n    print('Remaining variables:')\\n    print(X.columns[variables])\\n    return X.iloc[:, variables]\\nX_fin = calculate_vif_(X_fin)\\nX_fin.shape\\n\""
      ]
     },
     "execution_count": 177,
     "metadata": {},
     "output_type": "execute_result"
    }
   ],
   "source": [
    "'''# Test the Correlations\n",
    "#X_fin.corr(method  = 'pearson')\n",
    "from statsmodels.stats.outliers_influence import variance_inflation_factor    \n",
    "\n",
    "def calculate_vif_(X, thresh=5.0):\n",
    "    variables = list(range(X.shape[1]))\n",
    "    dropped = True\n",
    "    while dropped:\n",
    "        dropped = False\n",
    "        vif = [variance_inflation_factor(X.iloc[:, variables].values, ix)\n",
    "               for ix in range(X.iloc[:, variables].shape[1])]\n",
    "\n",
    "        maxloc = vif.index(max(vif))\n",
    "        if max(vif) > thresh:\n",
    "            print('dropping \\'' + X.iloc[:, variables].columns[maxloc] +\n",
    "                  '\\' at index: ' + str(maxloc))\n",
    "            del variables[maxloc]\n",
    "            dropped = True\n",
    "\n",
    "    print('Remaining variables:')\n",
    "    print(X.columns[variables])\n",
    "    return X.iloc[:, variables]\n",
    "X_fin = calculate_vif_(X_fin)\n",
    "X_fin.shape\n",
    "'''"
   ]
  },
  {
   "cell_type": "markdown",
   "metadata": {},
   "source": [
    "## Baseline Model Without Uber Data"
   ]
  },
  {
   "cell_type": "code",
   "execution_count": 197,
   "metadata": {},
   "outputs": [
    {
     "name": "stderr",
     "output_type": "stream",
     "text": [
      "/home/kamau/anaconda3/lib/python3.6/site-packages/sklearn/preprocessing/data.py:617: DataConversionWarning: Data with input dtype uint8, int64 were all converted to float64 by StandardScaler.\n",
      "  return self.partial_fit(X, y)\n",
      "/home/kamau/anaconda3/lib/python3.6/site-packages/ipykernel_launcher.py:11: DataConversionWarning: Data with input dtype uint8, int64 were all converted to float64 by StandardScaler.\n",
      "  # This is added back by InteractiveShellApp.init_path()\n",
      "[Parallel(n_jobs=1)]: Using backend SequentialBackend with 1 concurrent workers.\n",
      "[Parallel(n_jobs=1)]: Done 100 out of 100 | elapsed:    0.5s finished\n",
      "[Parallel(n_jobs=1)]: Using backend SequentialBackend with 1 concurrent workers.\n",
      "[Parallel(n_jobs=1)]: Done 100 out of 100 | elapsed:    0.0s finished\n"
     ]
    }
   ],
   "source": [
    "from sklearn.ensemble import RandomForestRegressor\n",
    "from sklearn.metrics import mean_absolute_error as mae\n",
    "from sklearn.model_selection import train_test_split\n",
    "from sklearn.preprocessing import StandardScaler as scale\n",
    "\n",
    "\n",
    "x_train,x_test,y_train,y_test = train_test_split(X_fin,Y,test_size = 0.1)\n",
    "\n",
    "SS = scale()\n",
    "SS.fit(x_train)\n",
    "G = SS.transform(x_train)\n",
    "\n",
    "RF = RandomForestRegressor(verbose = 1,n_estimators = 100)\n",
    "RF.fit(G,y_train)\n",
    "\n",
    "Pred = RF.predict(x_test)\n",
    "\n"
   ]
  },
  {
   "cell_type": "code",
   "execution_count": 198,
   "metadata": {},
   "outputs": [
    {
     "name": "stdout",
     "output_type": "stream",
     "text": [
      "30.664688\n"
     ]
    }
   ],
   "source": [
    "print(mae(y_test,Pred))\n"
   ]
  },
  {
   "cell_type": "markdown",
   "metadata": {},
   "source": [
    "## Testing The Model on the Test Set"
   ]
  },
  {
   "cell_type": "code",
   "execution_count": 201,
   "metadata": {},
   "outputs": [
    {
     "name": "stdout",
     "output_type": "stream",
     "text": [
      "(1111, 21) (6249, 27)\n",
      "(1111, 27) (6249, 27)\n"
     ]
    },
    {
     "name": "stderr",
     "output_type": "stream",
     "text": [
      "[Parallel(n_jobs=1)]: Using backend SequentialBackend with 1 concurrent workers.\n",
      "[Parallel(n_jobs=1)]: Done 100 out of 100 | elapsed:    0.0s finished\n"
     ]
    }
   ],
   "source": [
    "test =  pd.read_csv('test_questions.csv')\n",
    "X = test\n",
    "\n",
    "X.travel_date = pd.DatetimeIndex(X.travel_date)\n",
    "X['Day'] = [i.day for i in X.travel_date]\n",
    "X['Day_of_week'] = [i.dayofweek for i in X.travel_date ]\n",
    "X['is_weekend'] = [True if (i == 5 or i == 6) else False for i in X['Day_of_week']]\n",
    "X['Month'] = [i.month for i in X.travel_date]\n",
    "X['Year'] = [i.year for i in X.travel_date]\n",
    "\n",
    "Cat = ['travel_from','car_type','Year']\n",
    "Good = ['Day_of_week','Month','is_weekend']\n",
    "X_test_clean = X[Good]\n",
    "for i in Cat:\n",
    "    col = X[i]\n",
    "    Dum = pd.get_dummies(col)\n",
    "    X_fins = pd.concat((X_test_clean,Dum),1)\n",
    "    X_test_clean = X_fins\n",
    "print(X_fins.shape,X_fin.shape)\n",
    "nots = []\n",
    "for i in X_fin.columns:\n",
    "    if not i in X_fins.columns:\n",
    "        nots.append(i)\n",
    "    else:\n",
    "        pass\n",
    "for i in nots:\n",
    "    X_fins[i] = 0\n",
    "'''noted = []\n",
    "for i in X_fins.columns:\n",
    "    if not i in X_fin.columns:\n",
    "        noted.append(i)\n",
    "    else:\n",
    "        pass\n",
    "X_fins = X_fins[X_fins.columns.difference(noted)]'''\n",
    "print(X_fins.shape,X_fin.shape)\n",
    "import numpy as np\n",
    "\n",
    "Pred_test = RF.predict(X_fins)\n",
    "#P = pd.DataFrame(Pred_test).apply(np.ceiling)\n",
    "P = pd.DataFrame(Pred_test.round())\n",
    "\n",
    "G = pd.concat((test.ride_id,P),1)\n",
    "G.head()\n",
    "G.to_csv('Baseline_model.csv',index = False)\n"
   ]
  },
  {
   "cell_type": "code",
   "execution_count": 193,
   "metadata": {},
   "outputs": [
    {
     "data": {
      "text/plain": [
       "[False, True]"
      ]
     },
     "execution_count": 193,
     "metadata": {},
     "output_type": "execute_result"
    }
   ],
   "source": [
    "nots = []\n",
    "for i in X_fins.columns:\n",
    "    if not i in X_fin.columns:\n",
    "        nots.append(i)\n",
    "    else:\n",
    "        pass\n",
    "nots"
   ]
  },
  {
   "cell_type": "code",
   "execution_count": null,
   "metadata": {},
   "outputs": [],
   "source": []
  }
 ],
 "metadata": {
  "kernelspec": {
   "display_name": "Python 3",
   "language": "python",
   "name": "python3"
  },
  "language_info": {
   "codemirror_mode": {
    "name": "ipython",
    "version": 3
   },
   "file_extension": ".py",
   "mimetype": "text/x-python",
   "name": "python",
   "nbconvert_exporter": "python",
   "pygments_lexer": "ipython3",
   "version": "3.6.5"
  }
 },
 "nbformat": 4,
 "nbformat_minor": 2
}
