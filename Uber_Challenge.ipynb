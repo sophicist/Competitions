{
 "cells": [
  {
   "cell_type": "code",
   "execution_count": 6,
   "metadata": {},
   "outputs": [
    {
     "data": {
      "text/html": [
       "<div>\n",
       "<style scoped>\n",
       "    .dataframe tbody tr th:only-of-type {\n",
       "        vertical-align: middle;\n",
       "    }\n",
       "\n",
       "    .dataframe tbody tr th {\n",
       "        vertical-align: top;\n",
       "    }\n",
       "\n",
       "    .dataframe thead th {\n",
       "        text-align: right;\n",
       "    }\n",
       "</style>\n",
       "<table border=\"1\" class=\"dataframe\">\n",
       "  <thead>\n",
       "    <tr style=\"text-align: right;\">\n",
       "      <th></th>\n",
       "      <th>ride_id</th>\n",
       "      <th>seat_number</th>\n",
       "      <th>payment_method</th>\n",
       "      <th>payment_receipt</th>\n",
       "      <th>travel_date</th>\n",
       "      <th>travel_time</th>\n",
       "      <th>travel_from</th>\n",
       "      <th>travel_to</th>\n",
       "      <th>car_type</th>\n",
       "      <th>max_capacity</th>\n",
       "    </tr>\n",
       "  </thead>\n",
       "  <tbody>\n",
       "    <tr>\n",
       "      <th>0</th>\n",
       "      <td>1442</td>\n",
       "      <td>15A</td>\n",
       "      <td>Mpesa</td>\n",
       "      <td>UZUEHCBUSO</td>\n",
       "      <td>17-10-17</td>\n",
       "      <td>7:15</td>\n",
       "      <td>Migori</td>\n",
       "      <td>Nairobi</td>\n",
       "      <td>Bus</td>\n",
       "      <td>49</td>\n",
       "    </tr>\n",
       "    <tr>\n",
       "      <th>1</th>\n",
       "      <td>5437</td>\n",
       "      <td>14A</td>\n",
       "      <td>Mpesa</td>\n",
       "      <td>TIHLBUSGTE</td>\n",
       "      <td>19-11-17</td>\n",
       "      <td>7:12</td>\n",
       "      <td>Migori</td>\n",
       "      <td>Nairobi</td>\n",
       "      <td>Bus</td>\n",
       "      <td>49</td>\n",
       "    </tr>\n",
       "  </tbody>\n",
       "</table>\n",
       "</div>"
      ],
      "text/plain": [
       "   ride_id seat_number payment_method payment_receipt travel_date travel_time  \\\n",
       "0     1442         15A          Mpesa      UZUEHCBUSO    17-10-17        7:15   \n",
       "1     5437         14A          Mpesa      TIHLBUSGTE    19-11-17        7:12   \n",
       "\n",
       "  travel_from travel_to car_type  max_capacity  \n",
       "0      Migori   Nairobi      Bus            49  \n",
       "1      Migori   Nairobi      Bus            49  "
      ]
     },
     "execution_count": 6,
     "metadata": {},
     "output_type": "execute_result"
    }
   ],
   "source": [
    "import pandas as pd\n",
    "import os\n",
    "from collections import Counter\n",
    "# Import the Training Dataset\n",
    "df = pd.read_csv('train_revised.csv')\n",
    "df.head(2)"
   ]
  },
  {
   "cell_type": "code",
   "execution_count": 13,
   "metadata": {},
   "outputs": [
    {
     "name": "stdout",
     "output_type": "stream",
     "text": [
      "(6249, 6) (6249,)\n"
     ]
    },
    {
     "name": "stderr",
     "output_type": "stream",
     "text": [
      "/home/kamau/anaconda3/lib/python3.6/site-packages/pandas/core/generic.py:4401: SettingWithCopyWarning: \n",
      "A value is trying to be set on a copy of a slice from a DataFrame.\n",
      "Try using .loc[row_indexer,col_indexer] = value instead\n",
      "\n",
      "See the caveats in the documentation: http://pandas.pydata.org/pandas-docs/stable/indexing.html#indexing-view-versus-copy\n",
      "  self[name] = value\n",
      "/home/kamau/anaconda3/lib/python3.6/site-packages/ipykernel_launcher.py:23: SettingWithCopyWarning: \n",
      "A value is trying to be set on a copy of a slice from a DataFrame.\n",
      "Try using .loc[row_indexer,col_indexer] = value instead\n",
      "\n",
      "See the caveats in the documentation: http://pandas.pydata.org/pandas-docs/stable/indexing.html#indexing-view-versus-copy\n",
      "/home/kamau/anaconda3/lib/python3.6/site-packages/ipykernel_launcher.py:24: SettingWithCopyWarning: \n",
      "A value is trying to be set on a copy of a slice from a DataFrame.\n",
      "Try using .loc[row_indexer,col_indexer] = value instead\n",
      "\n",
      "See the caveats in the documentation: http://pandas.pydata.org/pandas-docs/stable/indexing.html#indexing-view-versus-copy\n"
     ]
    },
    {
     "name": "stdout",
     "output_type": "stream",
     "text": [
      "(6249, 26) (6249,)\n"
     ]
    }
   ],
   "source": [
    "def mode(x):\n",
    "    '''Returns the most repeated element from a list'''\n",
    "    F = Counter(x)\n",
    "    F = F.most_common(1)[0][0]# the counter object returns a tuple,we want the first element of the first tuple\n",
    "    \n",
    "    return F\n",
    "\n",
    "Df = df.groupby('ride_id')\n",
    "Y = Df.ride_id.agg('count') # The target variable is how many tickets were sold\n",
    "\n",
    "# Generate the X dataset from the groupby object\n",
    "columns = []\n",
    "Df = Df.agg(mode) # Create a dataset using the Mode function that we created\n",
    "\n",
    "columns = ['payment_method','travel_date','travel_from','travel_to','car_type','max_capacity']\n",
    "\n",
    "X = Df[columns]# slice the dataset using the columns that we had created.\n",
    "print(X.shape,Y.shape)\n",
    "\n",
    "# Create Some New columns using the Dates\n",
    "\n",
    "X.travel_date = pd.DatetimeIndex(X.travel_date) # Convert the date into a datetime index\n",
    "X['Day'] = [i.day for i in X.travel_date] # Day of the month\n",
    "X['Day_of_week'] = [i.dayofweek for i in X.travel_date ] # Which day of the week is it, where sunday is 0 and saturday is 6\n",
    "X['is_weekend'] = [1 if (i == 5 or i == 6) else 0 for i in X['Day_of_week']] # returns 1 if the day is weekend 0 otherwise\n",
    "X['Month'] = [i.month for i in X.travel_date] # January is 1, up to december 12\n",
    "X['Year'] = [i.year for i in X.travel_date] # either 2017 or 2018\n",
    "# Create Dummies For the cols\n",
    "Categorical_variables = ['travel_from','car_type','Year','payment_method']\n",
    "Numerical_variables = ['Day_of_week','Month','is_weekend']\n",
    "X_clean = X[Numerical_variables]\n",
    "for i in Categorical_variables:# convert the Categorical columns into numerical columns\n",
    "    col = X[i]\n",
    "    Dummy = pd.get_dummies(col)\n",
    "    X_final = pd.concat((X_clean,Dummy),1) # add the dummies to the original numerical dataset\n",
    "    X_clean = X_final # return a final dataset\n",
    "print(X_final.shape,Y.shape)\n",
    "\n",
    "X_final['Y'] = Y # You can add back the Target Variable to the predictor dataset"
   ]
  },
  {
   "cell_type": "code",
   "execution_count": 177,
   "metadata": {},
   "outputs": [
    {
     "data": {
      "text/plain": [
       "\"# Test the Correlations\\n#X_fin.corr(method  = 'pearson')\\nfrom statsmodels.stats.outliers_influence import variance_inflation_factor    \\n\\ndef calculate_vif_(X, thresh=5.0):\\n    variables = list(range(X.shape[1]))\\n    dropped = True\\n    while dropped:\\n        dropped = False\\n        vif = [variance_inflation_factor(X.iloc[:, variables].values, ix)\\n               for ix in range(X.iloc[:, variables].shape[1])]\\n\\n        maxloc = vif.index(max(vif))\\n        if max(vif) > thresh:\\n            print('dropping '' + X.iloc[:, variables].columns[maxloc] +\\n                  '' at index: ' + str(maxloc))\\n            del variables[maxloc]\\n            dropped = True\\n\\n    print('Remaining variables:')\\n    print(X.columns[variables])\\n    return X.iloc[:, variables]\\nX_fin = calculate_vif_(X_fin)\\nX_fin.shape\\n\""
      ]
     },
     "execution_count": 177,
     "metadata": {},
     "output_type": "execute_result"
    }
   ],
   "source": [
    "'''# Test the Correlations\n",
    "#X_fin.corr(method  = 'pearson')\n",
    "from statsmodels.stats.outliers_influence import variance_inflation_factor    \n",
    "\n",
    "def calculate_vif_(X, thresh=5.0):\n",
    "    variables = list(range(X.shape[1]))\n",
    "    dropped = True\n",
    "    while dropped:\n",
    "        dropped = False\n",
    "        vif = [variance_inflation_factor(X.iloc[:, variables].values, ix)\n",
    "               for ix in range(X.iloc[:, variables].shape[1])]\n",
    "\n",
    "        maxloc = vif.index(max(vif))\n",
    "        if max(vif) > thresh:\n",
    "            print('dropping \\'' + X.iloc[:, variables].columns[maxloc] +\n",
    "                  '\\' at index: ' + str(maxloc))\n",
    "            del variables[maxloc]\n",
    "            dropped = True\n",
    "\n",
    "    print('Remaining variables:')\n",
    "    print(X.columns[variables])\n",
    "    return X.iloc[:, variables]\n",
    "X_fin = calculate_vif_(X_fin)\n",
    "X_fin.shape\n",
    "'''"
   ]
  },
  {
   "cell_type": "markdown",
   "metadata": {},
   "source": [
    "## Baseline Model Without Uber Data"
   ]
  },
  {
   "cell_type": "code",
   "execution_count": 23,
   "metadata": {},
   "outputs": [
    {
     "name": "stderr",
     "output_type": "stream",
     "text": [
      "/home/kamau/anaconda3/lib/python3.6/site-packages/sklearn/preprocessing/data.py:617: DataConversionWarning: Data with input dtype uint8, int64 were all converted to float64 by StandardScaler.\n",
      "  return self.partial_fit(X, y)\n",
      "/home/kamau/anaconda3/lib/python3.6/site-packages/ipykernel_launcher.py:11: DataConversionWarning: Data with input dtype uint8, int64 were all converted to float64 by StandardScaler.\n",
      "  # This is added back by InteractiveShellApp.init_path()\n",
      "[Parallel(n_jobs=1)]: Using backend SequentialBackend with 1 concurrent workers.\n"
     ]
    },
    {
     "name": "stdout",
     "output_type": "stream",
     "text": [
      "(5624, 27)\n",
      "The Mean Absolute Value for the Models is: 29.628944\n"
     ]
    },
    {
     "name": "stderr",
     "output_type": "stream",
     "text": [
      "[Parallel(n_jobs=1)]: Done 100 out of 100 | elapsed:    0.5s finished\n",
      "[Parallel(n_jobs=1)]: Using backend SequentialBackend with 1 concurrent workers.\n",
      "[Parallel(n_jobs=1)]: Done 100 out of 100 | elapsed:    0.0s finished\n"
     ]
    }
   ],
   "source": [
    "from sklearn.ensemble import RandomForestRegressor\n",
    "from sklearn.metrics import mean_absolute_error as mae\n",
    "from sklearn.model_selection import train_test_split\n",
    "from sklearn.preprocessing import StandardScaler as scale\n",
    "\n",
    "\n",
    "x_train,x_test,y_train,y_test = train_test_split(X_final,Y,test_size = 0.1)\n",
    "\n",
    "Scaled = scale() # Scale the data to be between 1 and 0 for all the predictor columns\n",
    "Scaled.fit(x_train) # fit the data for scaling\n",
    "Clean_transformed_data= Scaled.transform(x_train) # transform the fitted data into the correct format. \n",
    "\n",
    "RF = RandomForestRegressor(verbose = 1,n_estimators = 100)# train the regression model,verbose means it will narrate what the model is doing, n_estimators =  how many trees the model will train\n",
    "RF.fit(Clean_transformed_data,y_train)\n",
    "print(Clean_transformed_data.shape)\n",
    "\n",
    "\n",
    "Pred = RF.predict(x_test)\n",
    "\n",
    "print('The Mean Absolute Value for the Models is:',(mae(y_test,Pred))) # prints the mean_absolute_value for the model"
   ]
  },
  {
   "cell_type": "markdown",
   "metadata": {},
   "source": [
    "## Testing The Model on the Test Set"
   ]
  },
  {
   "cell_type": "code",
   "execution_count": 25,
   "metadata": {},
   "outputs": [
    {
     "name": "stdout",
     "output_type": "stream",
     "text": [
      "(1111, 21) (6249, 27)\n",
      "(1111, 27) (6249, 20)\n"
     ]
    },
    {
     "name": "stderr",
     "output_type": "stream",
     "text": [
      "[Parallel(n_jobs=1)]: Using backend SequentialBackend with 1 concurrent workers.\n",
      "[Parallel(n_jobs=1)]: Done 100 out of 100 | elapsed:    0.0s finished\n"
     ]
    }
   ],
   "source": [
    "test =  pd.read_csv('test_questions.csv')\n",
    "X = test\n",
    "\n",
    "# Create a similar dataset to the one we used for the training\n",
    "X.travel_date = pd.DatetimeIndex(X.travel_date)\n",
    "X['Day'] = [i.day for i in X.travel_date]\n",
    "X['Day_of_week'] = [i.dayofweek for i in X.travel_date ]\n",
    "X['is_weekend'] = [True if (i == 5 or i == 6) else False for i in X['Day_of_week']]\n",
    "X['Month'] = [i.month for i in X.travel_date]\n",
    "X['Year'] = [i.year for i in X.travel_date]\n",
    "\n",
    "Categorical_variables = ['travel_from','car_type','Year']\n",
    "Numerical_variables = ['Day_of_week','Month','is_weekend']\n",
    "X_test_clean = X[Numerical_variables]\n",
    "for i in Categorical_variables:\n",
    "    col = X[i]\n",
    "    Dum = pd.get_dummies(col)\n",
    "    X_fins = pd.concat((X_test_clean,Dum),1)\n",
    "    X_test_clean = X_fins\n",
    "print(X_fins.shape,X_final.shape)\n",
    "#Check if there are some columns that were in the training set that are not in the testing set\n",
    "not_in_the_test_data = []   # empty list for this purpose  \n",
    "for i in X_final.columns:\n",
    "    if not i in X_fins.columns:\n",
    "        not_in_the_test_data.append(i)\n",
    "    else:\n",
    "        pass\n",
    "# if ther e are some columns that are not in the testing set, give them a dummy of 0 otherwise the model wont be able to predict\n",
    "for i in not_in_the_test_data:\n",
    "    X_fins[i] = 0\n",
    "\n",
    "print(X_fins.shape,X_fin.shape)\n",
    "import numpy as np\n",
    "\n",
    "Pred_test = RF.predict(X_fins)\n",
    "P = pd.DataFrame(Pred_test.round())# Round off the figures since they are number of tickets boughts and decimals wont make sense\n",
    "\n",
    "G = pd.concat((test.ride_id,P),1) # Add the IDs to the predictions in the required formats\n",
    "G.head()\n",
    "G.to_csv('Baseline_model.csv',index = False) # Save the model to the local machine\n",
    "\n"
   ]
  },
  {
   "cell_type": "code",
   "execution_count": null,
   "metadata": {},
   "outputs": [],
   "source": []
  }
 ],
 "metadata": {
  "kernelspec": {
   "display_name": "Python 3",
   "language": "python",
   "name": "python3"
  },
  "language_info": {
   "codemirror_mode": {
    "name": "ipython",
    "version": 3
   },
   "file_extension": ".py",
   "mimetype": "text/x-python",
   "name": "python",
   "nbconvert_exporter": "python",
   "pygments_lexer": "ipython3",
   "version": "3.6.5"
  }
 },
 "nbformat": 4,
 "nbformat_minor": 2
}
